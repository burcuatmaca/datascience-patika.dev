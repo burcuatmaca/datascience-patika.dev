{
  "cells": [
    {
      "cell_type": "code",
      "source": [
        "def flatten(list_of_lists):\n",
        "    if len(list_of_lists) == 0:\n",
        "        return list_of_lists\n",
        "    if isinstance(list_of_lists[0], list):\n",
        "        return flatten(list_of_lists[0]) + flatten(list_of_lists[1:])\n",
        "    return list_of_lists[:1] + flatten(list_of_lists[1:])\n",
        "\n",
        "\n",
        "print(flatten([[1,'a',['cat'],2],[[[3]],'dog'],4,5]))"
      ],
      "metadata": {
        "colab": {
          "base_uri": "https://localhost:8080/"
        },
        "id": "3IPTSMVeEKWY",
        "outputId": "02dc5892-910c-4dca-b1d6-bcdc76f0042e"
      },
      "execution_count": 55,
      "outputs": [
        {
          "output_type": "stream",
          "name": "stdout",
          "text": [
            "[1, 'a', 'cat', 2, 3, 'dog', 4, 5]\n"
          ]
        }
      ]
    },
    {
      "cell_type": "code",
      "source": [
        "ls = [[1, 2], [3, 4], [5, 6, 7]]\n",
        "\n",
        "def rvrs(ls):\n",
        "  for l in ls:\n",
        "    if type(l)==list:\n",
        "      l.reverse\n",
        "      rvrs(l)\n",
        "  ls.reverse()\n",
        "\n",
        "\n",
        "\n",
        "\n",
        "\n",
        "\n"
      ],
      "metadata": {
        "id": "b5zibtFtILc3"
      },
      "execution_count": 115,
      "outputs": []
    },
    {
      "cell_type": "code",
      "source": [
        ""
      ],
      "metadata": {
        "id": "GdB74-R_KiR5"
      },
      "execution_count": null,
      "outputs": []
    }
  ],
  "metadata": {
    "colab": {
      "collapsed_sections": [],
      "name": "Colaboratory'ye Hoş Geldiniz",
      "toc_visible": true,
      "provenance": []
    },
    "kernelspec": {
      "display_name": "Python 3",
      "name": "python3"
    }
  },
  "nbformat": 4,
  "nbformat_minor": 0
}